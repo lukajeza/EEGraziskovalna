{
 "cells": [
  {
   "cell_type": "code",
   "execution_count": 3,
   "metadata": {},
   "outputs": [
    {
     "name": "stdout",
     "output_type": "stream",
     "text": [
      "1.17.4\n",
      "4.0\n"
     ]
    }
   ],
   "source": [
    "import numpy as np\n",
    "import pickle\n",
    "from typing import Optional\n",
    "\n",
    "print(np.__version__)\n",
    "print(pickle.format_version)"
   ]
  },
  {
   "cell_type": "code",
   "execution_count": 4,
   "metadata": {},
   "outputs": [],
   "source": [
    "class whole_data(object):\n",
    "    \n",
    "    def __init__(self,de_features,eye_movement,label, all_data = []):\n",
    "        self.labels = label\n",
    "        self.de_features = de_features\n",
    "        self.eye_movement = eye_movement\n",
    "        self.all_data = all_data\n",
    "    def getLabels(self):\n",
    "        return self.labels\n",
    "\n",
    "    def getAllData(self):\n",
    "        if len(self.all_data)== 0:\n",
    "            self.all_data.extend((de_features,eye_movement))\n",
    "            return self.all_data\n",
    "        else:\n",
    "            return self.all_data\n",
    "\n",
    "    \n"
   ]
  },
  {
   "cell_type": "code",
   "execution_count": 5,
   "metadata": {},
   "outputs": [],
   "source": [
    "eye_movement = []\n",
    "de_features = []\n",
    "data_npz = np.load('Data/EEG_DE_features/1_123.npz')\n",
    "label = pickle.loads(data_npz['label'])\n",
    "\n",
    "for i in range(1,17):\n",
    "    data_eeg_de = np.load('Data/EEG_DE_features/{}_123.npz'.format(i))\n",
    "    data_eeg_de = pickle.loads(data_eeg_de['data'])\n",
    "    de_features.append(data_eeg_de)\n",
    "\n",
    "    data_eye_movement = np.load('Data/Eye_movement_features/{}_123.npz'.format(i))\n",
    "    data_eye_movement = pickle.loads(data_eye_movement['data'])\n",
    "    eye_movement.append(data_eye_movement)\n",
    "\n",
    "\n",
    "allData = whole_data(de_features,eye_movement,label)\n",
    "\n"
   ]
  },
  {
   "cell_type": "code",
   "execution_count": null,
   "metadata": {},
   "outputs": [],
   "source": [
    "vsa_data =  allData.getAllData()"
   ]
  }
 ],
 "metadata": {
  "interpreter": {
   "hash": "916dbcbb3f70747c44a77c7bcd40155683ae19c65e1c03b4aa3499c5328201f1"
  },
  "kernelspec": {
   "display_name": "Python 3.8.10 64-bit",
   "name": "python3"
  },
  "language_info": {
   "codemirror_mode": {
    "name": "ipython",
    "version": 3
   },
   "file_extension": ".py",
   "mimetype": "text/x-python",
   "name": "python",
   "nbconvert_exporter": "python",
   "pygments_lexer": "ipython3",
   "version": "3.8.10"
  },
  "orig_nbformat": 4
 },
 "nbformat": 4,
 "nbformat_minor": 2
}
