{
 "cells": [
  {
   "cell_type": "code",
   "execution_count": 14,
   "metadata": {},
   "outputs": [
    {
     "name": "stdout",
     "output_type": "stream",
     "text": [
      "1.17.4\n",
      "4.0\n"
     ]
    }
   ],
   "source": [
    "import numpy as np\n",
    "import pickle\n",
    "\n",
    "# check the version of these modules\n",
    "print(np.__version__)\n",
    "print(pickle.format_version)"
   ]
  },
  {
   "cell_type": "code",
   "execution_count": 15,
   "metadata": {},
   "outputs": [
    {
     "name": "stdout",
     "output_type": "stream",
     "text": [
      "['data', 'label']\n"
     ]
    }
   ],
   "source": [
    "data_npz = np.load('1_123.npz')\n",
    "print(data_npz.files)"
   ]
  },
  {
   "cell_type": "code",
   "execution_count": 16,
   "metadata": {},
   "outputs": [],
   "source": [
    "data = pickle.loads(data_npz['data'])\n",
    "label = pickle.loads(data_npz['label'])\n"
   ]
  },
  {
   "cell_type": "code",
   "execution_count": 17,
   "metadata": {},
   "outputs": [
    {
     "name": "stdout",
     "output_type": "stream",
     "text": [
      "Session 1 -- Trial 1 -- EmotionLabel : Happy\n",
      "Session 1 -- Trial 2 -- EmotionLabel : Fear\n",
      "Session 1 -- Trial 3 -- EmotionLabel : Neutral\n",
      "Session 1 -- Trial 4 -- EmotionLabel : Sad\n",
      "Session 1 -- Trial 5 -- EmotionLabel : Disgust\n",
      "Session 1 -- Trial 6 -- EmotionLabel : Happy\n",
      "Session 1 -- Trial 7 -- EmotionLabel : Fear\n",
      "Session 1 -- Trial 8 -- EmotionLabel : Neutral\n",
      "Session 1 -- Trial 9 -- EmotionLabel : Sad\n",
      "Session 1 -- Trial 10 -- EmotionLabel : Disgust\n",
      "Session 1 -- Trial 11 -- EmotionLabel : Happy\n",
      "Session 1 -- Trial 12 -- EmotionLabel : Fear\n",
      "Session 1 -- Trial 13 -- EmotionLabel : Neutral\n",
      "Session 1 -- Trial 14 -- EmotionLabel : Sad\n",
      "Session 1 -- Trial 15 -- EmotionLabel : Disgust\n",
      "Session 2 -- Trial 1 -- EmotionLabel : Sad\n",
      "Session 2 -- Trial 2 -- EmotionLabel : Fear\n",
      "Session 2 -- Trial 3 -- EmotionLabel : Neutral\n",
      "Session 2 -- Trial 4 -- EmotionLabel : Disgust\n",
      "Session 2 -- Trial 5 -- EmotionLabel : Happy\n",
      "Session 2 -- Trial 6 -- EmotionLabel : Happy\n",
      "Session 2 -- Trial 7 -- EmotionLabel : Disgust\n",
      "Session 2 -- Trial 8 -- EmotionLabel : Neutral\n",
      "Session 2 -- Trial 9 -- EmotionLabel : Sad\n",
      "Session 2 -- Trial 10 -- EmotionLabel : Fear\n",
      "Session 2 -- Trial 11 -- EmotionLabel : Neutral\n",
      "Session 2 -- Trial 12 -- EmotionLabel : Happy\n",
      "Session 2 -- Trial 13 -- EmotionLabel : Fear\n",
      "Session 2 -- Trial 14 -- EmotionLabel : Sad\n",
      "Session 2 -- Trial 15 -- EmotionLabel : Disgust\n",
      "Session 3 -- Trial 1 -- EmotionLabel : Sad\n",
      "Session 3 -- Trial 2 -- EmotionLabel : Fear\n",
      "Session 3 -- Trial 3 -- EmotionLabel : Neutral\n",
      "Session 3 -- Trial 4 -- EmotionLabel : Disgust\n",
      "Session 3 -- Trial 5 -- EmotionLabel : Happy\n",
      "Session 3 -- Trial 6 -- EmotionLabel : Happy\n",
      "Session 3 -- Trial 7 -- EmotionLabel : Disgust\n",
      "Session 3 -- Trial 8 -- EmotionLabel : Neutral\n",
      "Session 3 -- Trial 9 -- EmotionLabel : Sad\n",
      "Session 3 -- Trial 10 -- EmotionLabel : Fear\n",
      "Session 3 -- Trial 11 -- EmotionLabel : Neutral\n",
      "Session 3 -- Trial 12 -- EmotionLabel : Happy\n",
      "Session 3 -- Trial 13 -- EmotionLabel : Fear\n",
      "Session 3 -- Trial 14 -- EmotionLabel : Sad\n",
      "Session 3 -- Trial 15 -- EmotionLabel : Disgust\n"
     ]
    }
   ],
   "source": [
    "# We will print the emotion labels for each trial.\n",
    "label_dict = {0:'Disgust', 1:'Fear', 2:'Sad', 3:'Neutral', 4:'Happy'}\n",
    "for i in range(45):\n",
    "    print('Session {} -- Trial {} -- EmotionLabel : {}'.format(i//15+1, i%15+1, label_dict[label[i][0]]))"
   ]
  }
 ],
 "metadata": {
  "interpreter": {
   "hash": "916dbcbb3f70747c44a77c7bcd40155683ae19c65e1c03b4aa3499c5328201f1"
  },
  "kernelspec": {
   "display_name": "Python 3.8.10 64-bit",
   "name": "python3"
  },
  "language_info": {
   "codemirror_mode": {
    "name": "ipython",
    "version": 3
   },
   "file_extension": ".py",
   "mimetype": "text/x-python",
   "name": "python",
   "nbconvert_exporter": "python",
   "pygments_lexer": "ipython3",
   "version": "3.8.10"
  },
  "orig_nbformat": 4
 },
 "nbformat": 4,
 "nbformat_minor": 2
}
